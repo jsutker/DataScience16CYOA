{
 "cells": [
  {
   "cell_type": "markdown",
   "metadata": {},
   "source": [
    "# Putting Purpose to the Kaggle San Francisco Crime Data\n",
    "## Keenan Zucker and Joe Sutker\n",
    "\n",
    "We used the data from the Kaggle contest for San Francisco Crime prediction in order to both compete in said contest and to predict safety of certain places, possibly as a tool for tourists.\n",
    "\n",
    "For our submission for the contest, we used the following code:"
   ]
  },
  {
   "cell_type": "code",
   "execution_count": null,
   "metadata": {
    "collapsed": true
   },
   "outputs": [],
   "source": [
    "## Part 1: Grab all of the data\n",
    "import pandas as pd\n",
    "from sklearn.cross_validation import train_test_split\n",
    "from sklearn import preprocessing\n",
    "from sklearn.naive_bayes import BernoulliNB\n",
    "import numpy as np\n",
    " \n",
    "%matplotlib inline\n",
    "\n",
    "# Load Data with pandas, and parse the first column into datetime\n",
    "train=pd.read_csv('train.csv', parse_dates = ['Dates'])\n",
    "test=pd.read_csv('test.csv', parse_dates = ['Dates'])\n",
    "\n",
    "# Keep only the ones that are within +3 to -3 standard deviations in the column 'Data'.\n",
    "train = train[np.abs(train.X-train.X.mean())<=(3*train.X.std())] \n",
    "train = train[np.abs(train.Y-train.Y.mean())<=(3*train.Y.std())] \n",
    "\n",
    "## Part 2: Process the data\n",
    "#Convert crime labels to numbers\n",
    "le_crime = preprocessing.LabelEncoder()\n",
    "crime = le_crime.fit_transform(train.Category)\n",
    " \n",
    "#Get binarized weekdays, districts, and hours.\n",
    "days = pd.get_dummies(train.DayOfWeek)\n",
    "district = pd.get_dummies(train.PdDistrict)\n",
    "hour = train.Dates.dt.hour\n",
    "hour = pd.get_dummies(hour) \n",
    " \n",
    "#Build new array\n",
    "train_data = pd.concat([hour, days, district], axis=1)\n",
    "train_data['crime']=crime\n",
    " \n",
    "#Repeat for test data\n",
    "days = pd.get_dummies(test.DayOfWeek)\n",
    "district = pd.get_dummies(test.PdDistrict)\n",
    " \n",
    "hour = test.Dates.dt.hour\n",
    "hour = pd.get_dummies(hour) \n",
    " \n",
    "test_data = pd.concat([hour, days, district], axis=1)\n",
    " \n",
    "training, validation = train_test_split(train_data, train_size=.60)\n",
    "\n",
    "## Part 3: Train the model\n",
    "features = ['Friday', 'Monday', 'Saturday', 'Sunday', 'Thursday', 'Tuesday',\n",
    " 'Wednesday', 'BAYVIEW', 'CENTRAL', 'INGLESIDE', 'MISSION',\n",
    " 'NORTHERN', 'PARK', 'RICHMOND', 'SOUTHERN', 'TARAVAL', 'TENDERLOIN']\n",
    "\n",
    "\n",
    "# Add in hours of the day into the features\n",
    "features2 = [x for x in range(0,24)]\n",
    "features = features + features2\n",
    "# features = features[0:7]\n",
    "\n",
    "# Use the Naive Bayes model, after testing various models for validity\n",
    "training, validation = train_test_split(train_data, train_size=.5)\n",
    "\n",
    "## Part 4: Results\n",
    "model = BernoulliNB()\n",
    "model.fit(train_data[features], train_data['crime'])\n",
    "predicted = model.predict_proba(test_data[features])\n",
    " \n",
    "#Write results\n",
    "result=pd.DataFrame(predicted, columns=le_crime.classes_)\n",
    "result.to_csv('testResultBNB.csv', index = True, index_label = 'Id' )"
   ]
  },
  {
   "cell_type": "markdown",
   "metadata": {},
   "source": [
    "This code, using the Naive Bayes model for predictions based on the day of the week, the district, and the hour, got our submission a score of 2.58376, which got us to ~530th place out of ~1250."
   ]
  },
  {
   "cell_type": "code",
   "execution_count": null,
   "metadata": {
    "collapsed": true
   },
   "outputs": [],
   "source": []
  }
 ],
 "metadata": {
  "kernelspec": {
   "display_name": "Python 2",
   "language": "python",
   "name": "python2"
  },
  "language_info": {
   "codemirror_mode": {
    "name": "ipython",
    "version": 2
   },
   "file_extension": ".py",
   "mimetype": "text/x-python",
   "name": "python",
   "nbconvert_exporter": "python",
   "pygments_lexer": "ipython2",
   "version": "2.7.11"
  }
 },
 "nbformat": 4,
 "nbformat_minor": 0
}
