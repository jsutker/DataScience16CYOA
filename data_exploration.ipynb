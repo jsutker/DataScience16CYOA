{
 "cells": [
  {
   "cell_type": "markdown",
   "metadata": {},
   "source": [
    "# San Francisco Crime Data Exploration\n",
    "### Keenan Zucker and Joe Sutker\n"
   ]
  },
  {
   "cell_type": "markdown",
   "metadata": {},
   "source": [
    "We are going to explore our dataset by doing some visualization and such. We will start by importing packages we will be using for visualization and reading the data."
   ]
  },
  {
   "cell_type": "code",
   "execution_count": 2,
   "metadata": {
    "collapsed": false
   },
   "outputs": [
    {
     "name": "stderr",
     "output_type": "stream",
     "text": [
      "/home/jsutker/anaconda2/lib/python2.7/site-packages/matplotlib/font_manager.py:273: UserWarning: Matplotlib is building the font cache using fc-list. This may take a moment.\n",
      "  warnings.warn('Matplotlib is building the font cache using fc-list. This may take a moment.')\n"
     ]
    }
   ],
   "source": [
    "import pandas as pd\n",
    "import numpy as np\n",
    "import matplotlib.pyplot as plt\n",
    "%matplotlib inline"
   ]
  },
  {
   "cell_type": "markdown",
   "metadata": {},
   "source": [
    "Next, we will import the training data set to explore using the csv reader from pandas and using the head function to print out the first five rows, to see what some of the data looks like!"
   ]
  },
  {
   "cell_type": "code",
   "execution_count": 3,
   "metadata": {
    "collapsed": false
   },
   "outputs": [
    {
     "name": "stdout",
     "output_type": "stream",
     "text": [
      "                 Dates        Category                      Descript  \\\n",
      "0  2015-05-13 23:53:00        WARRANTS                WARRANT ARREST   \n",
      "1  2015-05-13 23:53:00  OTHER OFFENSES      TRAFFIC VIOLATION ARREST   \n",
      "2  2015-05-13 23:33:00  OTHER OFFENSES      TRAFFIC VIOLATION ARREST   \n",
      "3  2015-05-13 23:30:00   LARCENY/THEFT  GRAND THEFT FROM LOCKED AUTO   \n",
      "4  2015-05-13 23:30:00   LARCENY/THEFT  GRAND THEFT FROM LOCKED AUTO   \n",
      "\n",
      "   DayOfWeek PdDistrict      Resolution                    Address  \\\n",
      "0  Wednesday   NORTHERN  ARREST, BOOKED         OAK ST / LAGUNA ST   \n",
      "1  Wednesday   NORTHERN  ARREST, BOOKED         OAK ST / LAGUNA ST   \n",
      "2  Wednesday   NORTHERN  ARREST, BOOKED  VANNESS AV / GREENWICH ST   \n",
      "3  Wednesday   NORTHERN            NONE   1500 Block of LOMBARD ST   \n",
      "4  Wednesday       PARK            NONE  100 Block of BRODERICK ST   \n",
      "\n",
      "            X          Y  \n",
      "0 -122.425892  37.774599  \n",
      "1 -122.425892  37.774599  \n",
      "2 -122.424363  37.800414  \n",
      "3 -122.426995  37.800873  \n",
      "4 -122.438738  37.771541  \n"
     ]
    }
   ],
   "source": [
    "crime_train = pd.read_csv(\"./train.csv\" )\n",
    "\n",
    "print crime_train.head()"
   ]
  },
  {
   "cell_type": "markdown",
   "metadata": {},
   "source": [
    "Immediately, we can see that this dataset is going to be complicated because only the latitude and longitude (and time of occurance) are numerical values. We will have to be clever in how to compare different catagories that are not simply numbers. "
   ]
  },
  {
   "cell_type": "code",
   "execution_count": 4,
   "metadata": {
    "collapsed": false
   },
   "outputs": [
    {
     "name": "stdout",
     "output_type": "stream",
     "text": [
      "['Wednesday' 'Tuesday' 'Monday' 'Sunday' 'Saturday' 'Friday' 'Thursday']\n"
     ]
    }
   ],
   "source": [
    "print crime_train[\"DayOfWeek\"].unique() "
   ]
  },
  {
   "cell_type": "markdown",
   "metadata": {},
   "source": [
    "This is reassuring, that there are only 7 days in the week!"
   ]
  },
  {
   "cell_type": "code",
   "execution_count": 5,
   "metadata": {
    "collapsed": false
   },
   "outputs": [
    {
     "name": "stdout",
     "output_type": "stream",
     "text": [
      "['WARRANTS' 'OTHER OFFENSES' 'LARCENY/THEFT' 'VEHICLE THEFT' 'VANDALISM'\n",
      " 'NON-CRIMINAL' 'ROBBERY' 'ASSAULT' 'WEAPON LAWS' 'BURGLARY'\n",
      " 'SUSPICIOUS OCC' 'DRUNKENNESS' 'FORGERY/COUNTERFEITING' 'DRUG/NARCOTIC'\n",
      " 'STOLEN PROPERTY' 'SECONDARY CODES' 'TRESPASS' 'MISSING PERSON' 'FRAUD'\n",
      " 'KIDNAPPING' 'RUNAWAY' 'DRIVING UNDER THE INFLUENCE'\n",
      " 'SEX OFFENSES FORCIBLE' 'PROSTITUTION' 'DISORDERLY CONDUCT' 'ARSON'\n",
      " 'FAMILY OFFENSES' 'LIQUOR LAWS' 'BRIBERY' 'EMBEZZLEMENT' 'SUICIDE'\n",
      " 'LOITERING' 'SEX OFFENSES NON FORCIBLE' 'EXTORTION' 'GAMBLING'\n",
      " 'BAD CHECKS' 'TREA' 'RECOVERED VEHICLE' 'PORNOGRAPHY/OBSCENE MAT']\n"
     ]
    }
   ],
   "source": [
    "print crime_train[\"Category\"].unique()"
   ]
  },
  {
   "cell_type": "markdown",
   "metadata": {},
   "source": [
    "This is going to be more complicated, since there are 39 different catagories of crime. Computing this will be a difficult task since we might have to turn these catagories into numerical values, which could be difficult. "
   ]
  },
  {
   "cell_type": "code",
   "execution_count": 6,
   "metadata": {
    "collapsed": false
   },
   "outputs": [
    {
     "name": "stdout",
     "output_type": "stream",
     "text": [
      "Dates         0\n",
      "Category      0\n",
      "Descript      0\n",
      "DayOfWeek     0\n",
      "PdDistrict    0\n",
      "Resolution    0\n",
      "Address       0\n",
      "X             0\n",
      "Y             0\n",
      "dtype: int64\n"
     ]
    }
   ],
   "source": [
    "print crime_train.isnull().sum()"
   ]
  },
  {
   "cell_type": "markdown",
   "metadata": {
    "collapsed": true
   },
   "source": [
    "This is also pretty convinient! The dataset is actually complete and has no null values. This seems pretty rare for a dataset, but makes life easier on us since we will not have to add in values that could potentially change the accuracy of our predictions later."
   ]
  },
  {
   "cell_type": "code",
   "execution_count": 7,
   "metadata": {
    "collapsed": false
   },
   "outputs": [
    {
     "data": {
      "image/png": "[encoded data removed]",
      "text/plain": [
       "<matplotlib.figure.Figure at 0x7f8971a70350>"
      ]
     },
     "metadata": {},
     "output_type": "display_data"
    }
   ],
   "source": [
    "plt.scatter(crime_train.X, crime_train.Y)\n",
    "plt.xlabel(\"Longitude\")\n",
    "plt.ylabel(\"Latitude\")\n",
    "plt.show()"
   ]
  },
  {
   "cell_type": "markdown",
   "metadata": {},
   "source": [
    "As seen, there is a clear outlier in the mix, somewhere on the other side of the world it looks like!"
   ]
  },
  {
   "cell_type": "code",
   "execution_count": 8,
   "metadata": {
    "collapsed": false
   },
   "outputs": [
    {
     "name": "stdout",
     "output_type": "stream",
     "text": [
      "<class 'pandas.core.frame.DataFrame'>\n"
     ]
    }
   ],
   "source": [
    "print type(crime_train)"
   ]
  },
  {
   "cell_type": "code",
   "execution_count": 9,
   "metadata": {
    "collapsed": false
   },
   "outputs": [
    {
     "data": {
      "image/png": "[encoded data removed]",
      "text/plain": [
       "<matplotlib.figure.Figure at 0x7f899c20e050>"
      ]
     },
     "metadata": {},
     "output_type": "display_data"
    }
   ],
   "source": [
    "crime_train = crime_train[np.abs(crime_train.X-crime_train.X.mean())<=(3*crime_train.X.std())] #keep only the ones that are within +3 to -3 standard deviations in the column 'Data'.\n",
    "crime_train = crime_train[np.abs(crime_train.Y-crime_train.Y.mean())<=(3*crime_train.Y.std())] #keep only the ones that are within +3 to -3 standard deviations in the column 'Data'.\n",
    "\n",
    "plt.scatter(crime_train.X, crime_train.Y, alpha=0.1)\n",
    "plt.xlabel(\"Longitude\")\n",
    "plt.ylabel(\"Latitude\")\n",
    "plt.title(\"Location of Crime based on latitude and longitude\")\n",
    "plt.show()"
   ]
  },
  {
   "cell_type": "markdown",
   "metadata": {},
   "source": [
    "When we do some cleaning up of the longitude and latitude, that is, removing the outliers by dropping all the values that are more that 3 standard deviations away from the average, we are left with a graph that is more revealing. We sure do have a lot of data points!"
   ]
  },
  {
   "cell_type": "code",
   "execution_count": 10,
   "metadata": {
    "collapsed": false
   },
   "outputs": [
    {
     "name": "stdout",
     "output_type": "stream",
     "text": [
      "Friday       133723\n",
      "Wednesday    129200\n",
      "Saturday     126804\n",
      "Thursday     125027\n",
      "Tuesday      124954\n",
      "Monday       121573\n",
      "Sunday       116701\n",
      "Name: DayOfWeek, dtype: int64\n"
     ]
    }
   ],
   "source": [
    "print crime_train[\"DayOfWeek\"].value_counts()"
   ]
  },
  {
   "cell_type": "markdown",
   "metadata": {},
   "source": [
    "As shown, there is a clear different of when crimes are most likely to happen, as friday is the most popular day, and sunday is the least popular day for crimes to occur!"
   ]
  },
  {
   "cell_type": "code",
   "execution_count": 11,
   "metadata": {
    "collapsed": false
   },
   "outputs": [
    {
     "name": "stdout",
     "output_type": "stream",
     "text": [
      "LARCENY/THEFT                  174885\n",
      "OTHER OFFENSES                 126165\n",
      "NON-CRIMINAL                    92300\n",
      "ASSAULT                         76872\n",
      "DRUG/NARCOTIC                   53971\n",
      "VEHICLE THEFT                   53772\n",
      "VANDALISM                       44724\n",
      "WARRANTS                        42206\n",
      "BURGLARY                        36754\n",
      "SUSPICIOUS OCC                  31412\n",
      "MISSING PERSON                  25989\n",
      "ROBBERY                         22999\n",
      "FRAUD                           16679\n",
      "FORGERY/COUNTERFEITING          10609\n",
      "SECONDARY CODES                  9985\n",
      "WEAPON LAWS                      8555\n",
      "PROSTITUTION                     7484\n",
      "TRESPASS                         7325\n",
      "STOLEN PROPERTY                  4539\n",
      "SEX OFFENSES FORCIBLE            4387\n",
      "DISORDERLY CONDUCT               4318\n",
      "DRUNKENNESS                      4280\n",
      "RECOVERED VEHICLE                3138\n",
      "KIDNAPPING                       2341\n",
      "DRIVING UNDER THE INFLUENCE      2268\n",
      "RUNAWAY                          1946\n",
      "LIQUOR LAWS                      1903\n",
      "ARSON                            1513\n",
      "LOITERING                        1225\n",
      "EMBEZZLEMENT                     1166\n",
      "SUICIDE                           508\n",
      "FAMILY OFFENSES                   491\n",
      "BAD CHECKS                        406\n",
      "BRIBERY                           289\n",
      "EXTORTION                         256\n",
      "SEX OFFENSES NON FORCIBLE         148\n",
      "GAMBLING                          146\n",
      "PORNOGRAPHY/OBSCENE MAT            22\n",
      "TREA                                6\n",
      "Name: Category, dtype: int64\n"
     ]
    }
   ],
   "source": [
    "print crime_train[\"Category\"].value_counts()"
   ]
  },
  {
   "cell_type": "code",
   "execution_count": 12,
   "metadata": {
    "collapsed": false
   },
   "outputs": [
    {
     "name": "stdout",
     "output_type": "stream",
     "text": [
      "NONE                                      526757\n",
      "ARREST, BOOKED                            206384\n",
      "ARREST, CITED                              76994\n",
      "LOCATED                                    17101\n",
      "PSYCHOPATHIC CASE                          14533\n",
      "UNFOUNDED                                   9584\n",
      "JUVENILE BOOKED                             5563\n",
      "COMPLAINANT REFUSES TO PROSECUTE            3974\n",
      "DISTRICT ATTORNEY REFUSES TO PROSECUTE      3934\n",
      "NOT PROSECUTED                              3714\n",
      "JUVENILE CITED                              3332\n",
      "PROSECUTED BY OUTSIDE AGENCY                2504\n",
      "EXCEPTIONAL CLEARANCE                       1530\n",
      "JUVENILE ADMONISHED                         1455\n",
      "JUVENILE DIVERTED                            355\n",
      "CLEARED-CONTACT JUVENILE FOR MORE INFO       217\n",
      "PROSECUTED FOR LESSER OFFENSE                 51\n",
      "Name: Resolution, dtype: int64\n"
     ]
    }
   ],
   "source": [
    "print crime_train[\"Resolution\"].value_counts()"
   ]
  },
  {
   "cell_type": "code",
   "execution_count": 13,
   "metadata": {
    "collapsed": false
   },
   "outputs": [
    {
     "name": "stdout",
     "output_type": "stream",
     "text": [
      "SOUTHERN      157174\n",
      "MISSION       119907\n",
      "NORTHERN      105284\n",
      "BAYVIEW        89422\n",
      "CENTRAL        85455\n",
      "TENDERLOIN     81794\n",
      "INGLESIDE      78841\n",
      "TARAVAL        65592\n",
      "PARK           49311\n",
      "RICHMOND       45202\n",
      "Name: PdDistrict, dtype: int64\n"
     ]
    }
   ],
   "source": [
    "print crime_train[\"PdDistrict\"].value_counts()"
   ]
  },
  {
   "cell_type": "code",
   "execution_count": 14,
   "metadata": {
    "collapsed": false
   },
   "outputs": [
    {
     "name": "stdout",
     "output_type": "stream",
     "text": [
      "GRAND THEFT FROM LOCKED AUTO                                60013\n",
      "LOST PROPERTY                                               31729\n",
      "BATTERY                                                     27439\n",
      "STOLEN AUTOMOBILE                                           26893\n",
      "DRIVERS LICENSE, SUSPENDED OR REVOKED                       26833\n",
      "WARRANT ARREST                                              23751\n",
      "SUSPICIOUS OCCURRENCE                                       21889\n",
      "AIDED CASE, MENTAL DISTURBED                                21495\n",
      "PETTY THEFT FROM LOCKED AUTO                                19770\n",
      "MALICIOUS MISCHIEF, VANDALISM OF VEHICLES                   17788\n",
      "TRAFFIC VIOLATION                                           16468\n",
      "PETTY THEFT OF PROPERTY                                     16195\n",
      "MALICIOUS MISCHIEF, VANDALISM                               15957\n",
      "THREATS AGAINST LIFE                                        14716\n",
      "FOUND PROPERTY                                              12145\n",
      "ENROUTE TO OUTSIDE JURISDICTION                             11467\n",
      "GRAND THEFT OF PROPERTY                                     11009\n",
      "POSSESSION OF NARCOTICS PARAPHERNALIA                       10050\n",
      "PETTY THEFT FROM A BUILDING                                 10029\n",
      "PETTY THEFT SHOPLIFTING                                      9571\n",
      "GRAND THEFT FROM A BUILDING                                  9512\n",
      "FOUND PERSON                                                 9317\n",
      "RESISTING ARREST                                             8983\n",
      "CREDIT CARD, THEFT BY USE OF                                 8877\n",
      "MISSING JUVENILE                                             8620\n",
      "STOLEN TRUCK                                                 8591\n",
      "MISCELLANEOUS INVESTIGATION                                  8386\n",
      "VEHICLE, RECOVERED, AUTO                                     8195\n",
      "MISSING ADULT                                                8052\n",
      "PROBATION VIOLATION                                          8016\n",
      "                                                            ...  \n",
      "BIGAMY, INCEST, AND THE CRIME AGAINST NATURE (GENERAL)          1\n",
      "DRIVING, DRAG RACING                                            1\n",
      "ATTEMPTED THEFT PHONE BOOTH                                     1\n",
      "THEFT, DRUNK ROLL, ATT.                                         1\n",
      "EMBEZZLEMENT, GRAND THEFT BY PROPERTY CARRIER                   1\n",
      "PLANTING/CULTIVATING PEYOTE                                     1\n",
      "ALCOHOLIC BEVERAGE, PROCURING SALE OF                           1\n",
      "DOG, FIGHTING;  OWNING, FIGHTING, OR ATTENDING FIGHT            1\n",
      "HAZARDOUS MATERIALS, DUMP OIL INTO SEWERS                       1\n",
      "OBSTRUCTING HEALTH FACILITY, PLACE OF WORSHIP, OR SCHOOL        1\n",
      "EMBEZZLEMENT, GRAND THEFT PUBLIC/PRIVATE OFFICIAL               1\n",
      "PUTTING SLUGS IN PARKING METERS                                 1\n",
      "ATTEMPTED SUICIDE BY DROWNING                                   1\n",
      "BURGLARY,HOTEL UNDER CONSTRUCTION, ATT. FORCIBLE                1\n",
      "PUBLIC UTILITY INFORMATION, FRAUDULENTLY OBTAINING              1\n",
      "ASSAULT TO ROB WITH BODILY FORCE                                1\n",
      "SCHOOL GROUNDS, ENTRY BY SEX OFFENDER                           1\n",
      "DESTROYING JAIL PROPERTY-$200 OR UNDER                          1\n",
      "ENCOURAGE MINOR TO USE CONTROLLED SUBSTANCE                     1\n",
      "FALSE REPRESENTATION TO SECONDHAND DEALER                       1\n",
      "VIOLATION OF CALIF UNEMPLOYMENT INSURANCE ACT                   1\n",
      "SOLICITING MINOR TO COMMIT FELONY                               1\n",
      "TERRORIZING BY MARKING PRIVATE PROPERTY                         1\n",
      "ASSAULT, AGGRAVATED, ON POLICE OFFICER, W/ SEMI AUTO            1\n",
      "ASSAULT TO ROB BANK WITH A GUN                                  1\n",
      "IMPERSONATING FIRE DEPARTMENT MEMBER                            1\n",
      "BURGLARY,WAREHOUSE UNDER CONSTRT, ATT. FORCIBLE                 1\n",
      "ATTEMPTED HOMICIDE WITH EXPLOSIVES                              1\n",
      "ARSON OF A POLICE VEHICLE                                       1\n",
      "DESTRUCTIVE DEVICE, POSSESSION OF MATERIALS                     1\n",
      "Name: Descript, dtype: int64\n"
     ]
    }
   ],
   "source": [
    "print crime_train[\"Descript\"].value_counts()"
   ]
  },
  {
   "cell_type": "code",
   "execution_count": null,
   "metadata": {
    "collapsed": true
   },
   "outputs": [],
   "source": []
  }
 ],
 "metadata": {
  "kernelspec": {
   "display_name": "Python 2",
   "language": "python",
   "name": "python2"
  },
  "language_info": {
   "codemirror_mode": {
    "name": "ipython",
    "version": 2
   },
   "file_extension": ".py",
   "mimetype": "text/x-python",
   "name": "python",
   "nbconvert_exporter": "python",
   "pygments_lexer": "ipython2",
   "version": "2.7.11"
  }
 },
 "nbformat": 4,
 "nbformat_minor": 0
}
